{
 "cells": [
  {
   "cell_type": "code",
   "execution_count": 55,
   "metadata": {},
   "outputs": [],
   "source": [
    "import numpy as np"
   ]
  },
  {
   "cell_type": "code",
   "execution_count": 56,
   "metadata": {},
   "outputs": [
    {
     "name": "stdout",
     "output_type": "stream",
     "text": [
      "[[0.85 0.93 0.86 0.51 0.65]\n",
      " [0.3  0.26 0.42 0.47 0.86]\n",
      " [0.99 0.27 0.29 0.79 0.69]\n",
      " [0.57 0.2  0.04 0.11 0.64]\n",
      " [0.01 0.71 0.29 0.19 0.15]]\n"
     ]
    }
   ],
   "source": [
    "X = np.random.uniform(0, 1, [5, 5])\n",
    "X = np.round(X, 2)\n",
    "print(X)"
   ]
  },
  {
   "cell_type": "code",
   "execution_count": 57,
   "metadata": {},
   "outputs": [
    {
     "name": "stdout",
     "output_type": "stream",
     "text": [
      "-0.03928149433890831 1.0888241122230518\n"
     ]
    }
   ],
   "source": [
    "X = np.random.normal(0, 1, [5, 5])\n",
    "#X = np.round(X, 2)\n",
    "print(np.average(X), np.var(X))"
   ]
  },
  {
   "cell_type": "code",
   "execution_count": 58,
   "metadata": {},
   "outputs": [
    {
     "name": "stdout",
     "output_type": "stream",
     "text": [
      "[[-0.67920736 -0.40073121 -0.07547931 -0.14994382  0.75156292]\n",
      " [ 1.45701232  0.96151097  0.09287382 -1.07661737 -1.20555844]\n",
      " [ 0.36903229  0.2663304  -0.72965655  0.1592379   1.04289935]\n",
      " [ 0.74556361 -2.39857433  0.07109471  2.18594752 -0.17713955]\n",
      " [ 0.10322009  0.78520389  0.51627234 -1.66267395 -1.9342176 ]]\n",
      "[[-0.67920736  1.45701232  0.36903229  0.74556361  0.10322009]\n",
      " [-0.40073121  0.96151097  0.2663304  -2.39857433  0.78520389]\n",
      " [-0.07547931  0.09287382 -0.72965655  0.07109471  0.51627234]\n",
      " [-0.14994382 -1.07661737  0.1592379   2.18594752 -1.66267395]\n",
      " [ 0.75156292 -1.20555844  1.04289935 -0.17713955 -1.9342176 ]]\n"
     ]
    }
   ],
   "source": [
    "X_T = np.transpose(X)\n",
    "print(X, X_T, sep = '\\n')"
   ]
  },
  {
   "cell_type": "code",
   "execution_count": 59,
   "metadata": {},
   "outputs": [
    {
     "name": "stdout",
     "output_type": "stream",
     "text": [
      "[[ 0.5073304   1.02798993 -0.37698927  0.07156397 -0.6534166 ]\n",
      " [-1.13868715 -0.20414595 -0.23674152 -0.46580572 -0.40019806]\n",
      " [ 0.97984818  1.56245452 -2.76367746 -0.51089662 -2.03645655]\n",
      " [-1.37279477 -0.55523513 -0.10330425 -0.08180534 -0.23555686]\n",
      " [ 1.00642436  0.86631414 -0.76509084 -0.25132219 -1.0554111 ]]\n",
      "[[ 1.00000000e+00 -1.62068157e-16  3.30159732e-18  4.34374733e-17\n",
      "   8.62679031e-17]\n",
      " [ 3.57337993e-17  1.00000000e+00 -1.10944443e-17 -7.61747120e-17\n",
      "   3.71174829e-17]\n",
      " [ 1.82990368e-16 -7.40523561e-17  1.00000000e+00 -5.04825808e-17\n",
      "   7.71763057e-17]\n",
      " [ 2.42726635e-17  1.53354472e-17  9.18133588e-17  1.00000000e+00\n",
      "   2.97544169e-16]\n",
      " [ 1.60420472e-16  4.42013867e-16  1.24370113e-16 -9.78782265e-17\n",
      "   1.00000000e+00]]\n",
      "[[ True  True  True  True  True]\n",
      " [ True  True  True  True  True]\n",
      " [ True  True  True  True  True]\n",
      " [ True  True  True  True  True]\n",
      " [ True  True  True  True  True]]\n"
     ]
    }
   ],
   "source": [
    "X_inv = np.linalg.inv(X)\n",
    "print(X_inv)\n",
    "# print(np.dot(X, X_inv))\n",
    "X_mul_X_inv = np.dot(X, X_inv)\n",
    "print(X_mul_X_inv)\n",
    "print(np.eye(5) == np.round(np.dot(X, X_inv), 0))"
   ]
  },
  {
   "cell_type": "markdown",
   "metadata": {},
   "source": [
    "1. Consider $w_1 = (XX^T + \\gamma I)^{-1}Xy \\in R^D,\\quad w_2 = X(X^{T}X + \\gamma I)^{-1}y \\in R^D$.\n",
    "Make a python program $X_{D\\times N}\\sim Unif(0, 1),\\quad y_{N\\times 1}\\sim Unif(0, 1)$ see whether $w_1=w_2$ or not.\n",
    "\n",
    "2. Same thing but $X_{D\\times N}\\sim N(0, 1),\\quad y_{N\\times 1}\\sim N(0, 1)$"
   ]
  },
  {
   "cell_type": "markdown",
   "metadata": {},
   "source": [
    "부동소수점 이슈 파훼법\n",
    "1. 반올림해서 return, np.array_equal()로 확인\n",
    "2. 일단 return 하고 np.allclose()로 확인\n",
    "allclose() : 오차(기본값이 1e-5랬나) 보다 작으면 같다 쳐줌."
   ]
  },
  {
   "cell_type": "code",
   "execution_count": 60,
   "metadata": {},
   "outputs": [],
   "source": [
    "D, N = 4, 3\n",
    "Gamma = 0.5\n",
    "\n",
    "def w1(X, y):\n",
    "    X_mul_X_t = np.dot(X, np.transpose(X))\n",
    "    I = np.eye(D)\n",
    "    XXt_plus_gamma_I = X_mul_X_t + Gamma * I\n",
    "    result = np.dot(np.dot(np.linalg.inv(XXt_plus_gamma_I), X), y)\n",
    "    return np.round(result, 5)\n",
    "    # return result\n",
    "\n",
    "def w2(X, y):\n",
    "    X_t_mul_X = np.dot(np.transpose(X), X)\n",
    "    I = np.eye(N)\n",
    "    XtX_plus_gamma_I = X_t_mul_X + Gamma * I\n",
    "    result = np.dot(np.dot(X, np.linalg.inv(XtX_plus_gamma_I)), y)\n",
    "    return np.round(result, 5)\n",
    "    # return result"
   ]
  },
  {
   "cell_type": "code",
   "execution_count": 61,
   "metadata": {},
   "outputs": [
    {
     "name": "stdout",
     "output_type": "stream",
     "text": [
      "w1 : [0.3943  0.12342 0.21989 0.56742]\n",
      "w2 : [0.3943  0.12342 0.21989 0.56742]\n",
      "w1 == w2 ? : True\n"
     ]
    }
   ],
   "source": [
    "X_uni = np.random.uniform(0, 1, [D, N])\n",
    "y_uni = np.random.uniform(0, 1, N)\n",
    "\n",
    "w1_uni = w1(X_uni, y_uni)\n",
    "w2_uni = w2(X_uni, y_uni)\n",
    "print(\"w1 :\", w1_uni)\n",
    "print(\"w2 :\", w2_uni)\n",
    "\n",
    "print(\"w1 == w2 ? :\", np.array_equal(w1_uni, w2_uni))\n",
    "# print(\"w1 == w2 ? :\", np.allclose(w1_uni, w2_uni))"
   ]
  }
 ],
 "metadata": {
  "kernelspec": {
   "display_name": "Python 3",
   "language": "python",
   "name": "python3"
  },
  "language_info": {
   "codemirror_mode": {
    "name": "ipython",
    "version": 3
   },
   "file_extension": ".py",
   "mimetype": "text/x-python",
   "name": "python",
   "nbconvert_exporter": "python",
   "pygments_lexer": "ipython3",
   "version": "3.11.7"
  }
 },
 "nbformat": 4,
 "nbformat_minor": 2
}
