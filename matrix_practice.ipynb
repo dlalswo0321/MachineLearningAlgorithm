{
 "cells": [
  {
   "cell_type": "code",
   "execution_count": 11,
   "metadata": {},
   "outputs": [],
   "source": [
    "import numpy as np"
   ]
  },
  {
   "cell_type": "code",
   "execution_count": 12,
   "metadata": {},
   "outputs": [
    {
     "name": "stdout",
     "output_type": "stream",
     "text": [
      "[[0.56 0.19 0.92 0.13 0.01]\n",
      " [0.62 0.42 0.24 0.11 0.63]\n",
      " [0.94 0.38 0.33 0.65 0.26]\n",
      " [0.23 0.53 0.46 0.36 0.74]\n",
      " [0.42 0.85 0.42 0.78 0.91]]\n"
     ]
    }
   ],
   "source": [
    "X = np.random.uniform(0, 1, [5, 5])\n",
    "X = np.round(X, 2)\n",
    "print(X)"
   ]
  },
  {
   "cell_type": "code",
   "execution_count": 13,
   "metadata": {},
   "outputs": [
    {
     "name": "stdout",
     "output_type": "stream",
     "text": [
      "-0.17026679747324966 0.8304272063620387\n"
     ]
    }
   ],
   "source": [
    "X = np.random.normal(0, 1, [5, 5])\n",
    "#X = np.round(X, 2)\n",
    "print(np.average(X), np.var(X))"
   ]
  },
  {
   "cell_type": "code",
   "execution_count": 14,
   "metadata": {},
   "outputs": [
    {
     "name": "stdout",
     "output_type": "stream",
     "text": [
      "[[ 1.17567986 -1.19108501 -1.06909029  0.68486039  0.80675259]\n",
      " [-1.05449724 -0.08043953 -1.1003684  -0.10126536  0.85769207]\n",
      " [ 0.42333995 -1.15906415 -0.0948874   0.50658645  1.29960716]\n",
      " [ 0.59263257 -0.84966039 -0.39979848 -1.95454066  0.73906815]\n",
      " [-0.07668372 -1.3656347  -0.12999962 -1.38893386  0.67305971]]\n",
      "[[ 1.17567986 -1.05449724  0.42333995  0.59263257 -0.07668372]\n",
      " [-1.19108501 -0.08043953 -1.15906415 -0.84966039 -1.3656347 ]\n",
      " [-1.06909029 -1.1003684  -0.0948874  -0.39979848 -0.12999962]\n",
      " [ 0.68486039 -0.10126536  0.50658645 -1.95454066 -1.38893386]\n",
      " [ 0.80675259  0.85769207  1.29960716  0.73906815  0.67305971]]\n"
     ]
    }
   ],
   "source": [
    "X_T = np.transpose(X)\n",
    "print(X, X_T, sep = '\\n')"
   ]
  },
  {
   "cell_type": "code",
   "execution_count": 15,
   "metadata": {},
   "outputs": [
    {
     "name": "stdout",
     "output_type": "stream",
     "text": [
      "[[ 0.2164273  -0.33931377  0.08788387  0.5182819  -0.565829  ]\n",
      " [-0.35182144  0.19049897  0.25551951  0.71247095 -1.09677666]\n",
      " [-0.57421977 -0.39848315  0.62914321 -0.01902807  0.00215901]\n",
      " [ 0.15239799 -0.00797386  0.14864196 -0.42217481  0.00405826]\n",
      " [-0.48560437  0.25444152  0.9567172   0.62976924 -0.79527685]]\n",
      "[[ 1.00000000e+00  2.65227683e-17  1.03281861e-16  1.62741084e-16\n",
      "  -6.61476459e-17]\n",
      " [ 4.32574951e-17  1.00000000e+00 -2.94236808e-17  4.42411707e-17\n",
      "  -2.48154973e-16]\n",
      " [-1.46440351e-16  8.70899557e-17  1.00000000e+00  1.60931519e-16\n",
      "  -2.79739354e-16]\n",
      " [-5.72726405e-17  2.48529753e-17  3.88866756e-17  1.00000000e+00\n",
      "  -1.92366470e-16]\n",
      " [-8.22636315e-17  4.02280757e-17 -1.35848965e-17  1.00572909e-16\n",
      "   1.00000000e+00]]\n",
      "[[ True  True  True  True  True]\n",
      " [ True  True  True  True  True]\n",
      " [ True  True  True  True  True]\n",
      " [ True  True  True  True  True]\n",
      " [ True  True  True  True  True]]\n"
     ]
    }
   ],
   "source": [
    "X_inv = np.linalg.inv(X)\n",
    "print(X_inv)\n",
    "# print(np.dot(X, X_inv))\n",
    "X_mul_X_inv = np.dot(X, X_inv)\n",
    "print(X_mul_X_inv)\n",
    "print(np.eye(5) == np.round(np.dot(X, X_inv), 0))"
   ]
  },
  {
   "cell_type": "code",
   "execution_count": 44,
   "metadata": {},
   "outputs": [],
   "source": [
    "D, N = 4, 3\n",
    "Gamma = 0.5\n",
    "\n",
    "def w1(X, y):\n",
    "    X_mul_X_t = np.dot(X, np.transpose(X))\n",
    "    I = np.eye(D)\n",
    "    XXt_plus_gamma_I = X_mul_X_t + Gamma * I\n",
    "    result = np.dot(np.dot(np.linalg.inv(XXt_plus_gamma_I), X), y)\n",
    "    return np.round(result, 5)\n",
    "\n",
    "def w2(X, y):\n",
    "    X_t_mul_X = np.dot(np.transpose(X), X)\n",
    "    I = np.eye(N)\n",
    "    XtX_plus_gamma_I = X_t_mul_X + Gamma * I\n",
    "    result = np.dot(np.dot(X, np.linalg.inv(XtX_plus_gamma_I)), y)\n",
    "    return np.round(result, 5)"
   ]
  },
  {
   "cell_type": "code",
   "execution_count": 47,
   "metadata": {},
   "outputs": [
    {
     "name": "stdout",
     "output_type": "stream",
     "text": [
      "w1 : [ 0.09396  0.19392  0.14601 -0.11384]\n",
      "w2 : [ 0.09396  0.19392  0.14601 -0.11384]\n",
      "w1 == w2 ? True\n"
     ]
    }
   ],
   "source": [
    "X_uni = np.random.uniform(0, 1, [D, N])\n",
    "y_uni = np.random.uniform(0, 1, N)\n",
    "\n",
    "print(\"w1 :\", w1(X_uni, y_uni))\n",
    "print(\"w2 :\", w2(X_uni, y_uni))\n",
    "print(\"w1 == w2 ?\", np.array_equal(w1(X_uni, y_uni), w2(X_uni, y_uni)))"
   ]
  }
 ],
 "metadata": {
  "kernelspec": {
   "display_name": "Python 3",
   "language": "python",
   "name": "python3"
  },
  "language_info": {
   "codemirror_mode": {
    "name": "ipython",
    "version": 3
   },
   "file_extension": ".py",
   "mimetype": "text/x-python",
   "name": "python",
   "nbconvert_exporter": "python",
   "pygments_lexer": "ipython3",
   "version": "3.11.7"
  }
 },
 "nbformat": 4,
 "nbformat_minor": 2
}
